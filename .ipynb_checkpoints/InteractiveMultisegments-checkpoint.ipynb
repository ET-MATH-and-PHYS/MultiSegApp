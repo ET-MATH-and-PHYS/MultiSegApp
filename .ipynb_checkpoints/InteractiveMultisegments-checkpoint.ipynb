{
 "cells": [
  {
   "cell_type": "code",
   "execution_count": 1,
   "id": "99f50094",
   "metadata": {
    "extensions": {
     "jupyter_dashboards": {
      "activeView": "grid_default",
      "views": {
       "grid_default": {
        "col": null,
        "height": 2,
        "hidden": true,
        "locked": true,
        "row": null,
        "width": 2
       }
      }
     }
    },
    "tags": []
   },
   "outputs": [],
   "source": [
    "import sys\n",
    "sys.path.append('/mnt/c/MathAndPhysics/MathematicalCoding/Sage/TutorialsAndMisc/Misc')\n",
    "from Rep_SegAlgebra_Distribution_lib import Segment, Multisegment\n",
    "import ipywidgets as widgets\n",
    "import re"
   ]
  },
  {
   "cell_type": "code",
   "execution_count": 2,
   "id": "80ade23a",
   "metadata": {
    "extensions": {
     "jupyter_dashboards": {
      "activeView": "grid_default",
      "views": {
       "grid_default": {
        "col": null,
        "height": 2,
        "hidden": true,
        "locked": true,
        "row": null,
        "width": 2
       }
      }
     }
    }
   },
   "outputs": [],
   "source": [
    "def interactive_multisegment(mseg_string):\n",
    "    \n",
    "    seg_list = []\n",
    "    if re.match(r'^\\[.*\\]$', mseg_string):\n",
    "        regex = r'\\([-+]?[0-9]+,[-+]?[0-9]+\\)'\n",
    "        tuple_list = re.findall(regex, mseg_string)\n",
    "        for pair in tuple_list:\n",
    "            pair = pair.strip(\"(\")\n",
    "            pair = pair.strip(\")\")\n",
    "            numbs = pair.split(\",\")\n",
    "            seg_list.append((int(numbs[0]), int(numbs[1])))\n",
    "        \n",
    "    \n",
    "    multi_seg = Multisegment(seg_list)\n",
    "    multi_seg.plot_poset()"
   ]
  },
  {
   "cell_type": "markdown",
   "id": "86f97280",
   "metadata": {
    "extensions": {
     "jupyter_dashboards": {
      "activeView": "grid_default",
      "views": {
       "grid_default": {
        "col": 0,
        "height": 8,
        "hidden": false,
        "locked": true,
        "row": 0,
        "width": 12
       }
      }
     }
    },
    "tags": []
   },
   "source": [
    "# Multisegment Partial Order Tool\n",
    "\n",
    "This tool facilitates the visualization of the partial ordering tree for a multisegment. To use the tool, input a multisegment into the text box in the following format:\n",
    "    \n",
    "$$[(i_1,j_1),(i_2,j_2),...,(i_n,j_n)]$$\n",
    "   \n",
    "where $i_k \\leq j_k$ for each $1 \\leq k \\leq n$."
   ]
  },
  {
   "cell_type": "code",
   "execution_count": 3,
   "id": "4930545c",
   "metadata": {
    "extensions": {
     "jupyter_dashboards": {
      "activeView": "grid_default",
      "views": {
       "grid_default": {
        "col": null,
        "height": 2,
        "hidden": true,
        "locked": true,
        "row": null,
        "width": 2
       }
      }
     }
    },
    "tags": []
   },
   "outputs": [
    {
     "data": {
      "application/vnd.jupyter.widget-view+json": {
       "model_id": "de546108062d45cb910cf5134201b7ec",
       "version_major": 2,
       "version_minor": 0
      },
      "text/plain": [
       "interactive(children=(Textarea(value='[(0,0),(1,1)]', description='Multisegment'), Output()))"
      ]
     },
     "metadata": {},
     "output_type": "display_data"
    }
   ],
   "source": [
    "widgets.interact(interactive_multisegment, \n",
    "                 mseg_string = widgets.Textarea(value=\"[(0,0),(1,1)]\", description = \"Multisegment\"));"
   ]
  },
  {
   "cell_type": "code",
   "execution_count": null,
   "id": "20c5834e",
   "metadata": {},
   "outputs": [],
   "source": []
  }
 ],
 "metadata": {
  "extensions": {
   "jupyter_dashboards": {
    "activeView": "grid_default",
    "version": 1,
    "views": {
     "grid_default": {
      "cellMargin": 2,
      "defaultCellHeight": 40,
      "maxColumns": 12,
      "name": "grid",
      "type": "grid"
     }
    }
   }
  },
  "kernelspec": {
   "display_name": "SageMath 9.5",
   "language": "sage",
   "name": "sagemath"
  },
  "language_info": {
   "codemirror_mode": {
    "name": "ipython",
    "version": 3
   },
   "file_extension": ".py",
   "mimetype": "text/x-python",
   "name": "python",
   "nbconvert_exporter": "python",
   "pygments_lexer": "ipython3",
   "version": "3.10.4"
  }
 },
 "nbformat": 4,
 "nbformat_minor": 5
}
